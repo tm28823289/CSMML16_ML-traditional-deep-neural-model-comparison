{
  "nbformat": 4,
  "nbformat_minor": 0,
  "metadata": {
    "colab": {
      "name": "CSMML16_ML traditional & deep neural model comparison.ipynb",
      "provenance": [],
      "collapsed_sections": [],
      "authorship_tag": "ABX9TyPzU/vw6ajPc2KTOncWizS2",
      "include_colab_link": true
    },
    "kernelspec": {
      "name": "python3",
      "display_name": "Python 3"
    },
    "language_info": {
      "name": "python"
    }
  },
  "cells": [
    {
      "cell_type": "markdown",
      "metadata": {
        "id": "view-in-github",
        "colab_type": "text"
      },
      "source": [
        "<a href=\"https://colab.research.google.com/github/tm28823289/CSMML16_ML-traditional-deep-neural-model-comparison/blob/main/CSMML16_ML_traditional_%26_deep_neural_model_comparison.ipynb\" target=\"_parent\"><img src=\"https://colab.research.google.com/assets/colab-badge.svg\" alt=\"Open In Colab\"/></a>"
      ]
    },
    {
      "cell_type": "markdown",
      "metadata": {
        "id": "YQlDT4sGREJd"
      },
      "source": [
        "# 1. Importing the required Python and ML libraries & modules"
      ]
    },
    {
      "cell_type": "code",
      "metadata": {
        "id": "F3__PofGPR4j"
      },
      "source": [
        "# Importing generic python modules & libraries for implementing ML models\n",
        "import pandas as pd\n",
        "import numpy as np\n",
        "import matplotlib.pyplot as plt\n",
        "import seaborn as sns\n",
        "import sklearn\n",
        "from sklearn.model_selection import train_test_split # For testing and training splits\n",
        "from sklearn.model_selection import GridSearchCV # For searching over possible values of hyperparameters\n",
        "from sklearn.preprocessing import StandardScaler\n",
        "from sklearn.preprocessing import MinMaxScaler\n",
        "from sklearn import preprocessing\n",
        "from collections import Counter\n",
        "from sklearn.metrics import classification_report, confusion_matrix\n",
        "\n",
        "# Importing modules & libraries for implementing ML traditional model\n",
        "from sklearn.cluster import KMeans\n",
        "from sklearn.neighbors import KNeighborsClassifier\n",
        "from sklearn.svm import SVC\n",
        "from sklearn.svm import SVR\n",
        "from sklearn.mixture import GaussianMixture\n",
        "from sklearn.metrics import accuracy_score # For evaluating model accuracy score\n",
        "from sklearn.model_selection import cross_val_score # For cross validation\n",
        "\n",
        "# for implementing ML DNN model\n",
        "import tensorflow as tf\n",
        "from tensorflow import keras\n",
        "from tensorflow.keras.models import Sequential\n",
        "from tensorflow.keras.layers import Dense, Activation\n",
        "from tensorflow.keras.callbacks import EarlyStopping\n",
        "from tensorflow.keras.wrappers.scikit_learn import KerasClassifier"
      ],
      "execution_count": 107,
      "outputs": []
    },
    {
      "cell_type": "code",
      "metadata": {
        "colab": {
          "base_uri": "https://localhost:8080/"
        },
        "id": "q5SSKiafPuQM",
        "outputId": "db20faab-b53f-421e-ebb7-3f2c92e24d2e"
      },
      "source": [
        "print(tf.__version__) # checking the tensorflow version"
      ],
      "execution_count": 108,
      "outputs": [
        {
          "output_type": "stream",
          "text": [
            "2.4.1\n"
          ],
          "name": "stdout"
        }
      ]
    },
    {
      "cell_type": "markdown",
      "metadata": {
        "id": "FirPdIxUR61u"
      },
      "source": [
        "# 2. Loading the ATLAS data"
      ]
    },
    {
      "cell_type": "code",
      "metadata": {
        "id": "r2SJ46xHSAG8"
      },
      "source": [
        "# loading the data in Pandas DataFrame\n",
        "atlasLabels = pd.read_csv(\"ATLAS-labels.csv\", header=None)\n",
        "atlasData = pd.read_csv(\"ATLAS-data.csv\", header=None)\n",
        "\n",
        "# Also loading the data in NumPy Array\n",
        "atlas_data = np.loadtxt(\"ATLAS-data.csv\",delimiter=\",\")\n",
        "atlas_labels = np.loadtxt(\"ATLAS-labels.csv\",delimiter=\",\") "
      ],
      "execution_count": 109,
      "outputs": []
    },
    {
      "cell_type": "markdown",
      "metadata": {
        "id": "anVIkOMeSBts"
      },
      "source": [
        "# 3. Exploring and experimenting with the ATLAS data"
      ]
    },
    {
      "cell_type": "code",
      "metadata": {
        "colab": {
          "base_uri": "https://localhost:8080/"
        },
        "id": "Waq6g6rdSIM5",
        "outputId": "d7fd32b5-281f-45fa-853e-5db6c7bd1f48"
      },
      "source": [
        "# quick glance at the data set\n",
        "atlasData.shape"
      ],
      "execution_count": 110,
      "outputs": [
        {
          "output_type": "execute_result",
          "data": {
            "text/plain": [
              "(10000, 30)"
            ]
          },
          "metadata": {
            "tags": []
          },
          "execution_count": 110
        }
      ]
    },
    {
      "cell_type": "code",
      "metadata": {
        "colab": {
          "base_uri": "https://localhost:8080/",
          "height": 217
        },
        "id": "80Rbm9krSmvB",
        "outputId": "b5d1307b-1298-4f40-87ad-9ed376c6a627"
      },
      "source": [
        "atlasData.head()"
      ],
      "execution_count": 111,
      "outputs": [
        {
          "output_type": "execute_result",
          "data": {
            "text/html": [
              "<div>\n",
              "<style scoped>\n",
              "    .dataframe tbody tr th:only-of-type {\n",
              "        vertical-align: middle;\n",
              "    }\n",
              "\n",
              "    .dataframe tbody tr th {\n",
              "        vertical-align: top;\n",
              "    }\n",
              "\n",
              "    .dataframe thead th {\n",
              "        text-align: right;\n",
              "    }\n",
              "</style>\n",
              "<table border=\"1\" class=\"dataframe\">\n",
              "  <thead>\n",
              "    <tr style=\"text-align: right;\">\n",
              "      <th></th>\n",
              "      <th>0</th>\n",
              "      <th>1</th>\n",
              "      <th>2</th>\n",
              "      <th>3</th>\n",
              "      <th>4</th>\n",
              "      <th>5</th>\n",
              "      <th>6</th>\n",
              "      <th>7</th>\n",
              "      <th>8</th>\n",
              "      <th>9</th>\n",
              "      <th>10</th>\n",
              "      <th>11</th>\n",
              "      <th>12</th>\n",
              "      <th>13</th>\n",
              "      <th>14</th>\n",
              "      <th>15</th>\n",
              "      <th>16</th>\n",
              "      <th>17</th>\n",
              "      <th>18</th>\n",
              "      <th>19</th>\n",
              "      <th>20</th>\n",
              "      <th>21</th>\n",
              "      <th>22</th>\n",
              "      <th>23</th>\n",
              "      <th>24</th>\n",
              "      <th>25</th>\n",
              "      <th>26</th>\n",
              "      <th>27</th>\n",
              "      <th>28</th>\n",
              "      <th>29</th>\n",
              "    </tr>\n",
              "  </thead>\n",
              "  <tbody>\n",
              "    <tr>\n",
              "      <th>0</th>\n",
              "      <td>243.128</td>\n",
              "      <td>96.455</td>\n",
              "      <td>158.618</td>\n",
              "      <td>90.253</td>\n",
              "      <td>0.693</td>\n",
              "      <td>56.238</td>\n",
              "      <td>1.581</td>\n",
              "      <td>3.615</td>\n",
              "      <td>13.597</td>\n",
              "      <td>264.586</td>\n",
              "      <td>0.664</td>\n",
              "      <td>1.414</td>\n",
              "      <td>0.000</td>\n",
              "      <td>64.280</td>\n",
              "      <td>-0.084</td>\n",
              "      <td>3.074</td>\n",
              "      <td>42.669</td>\n",
              "      <td>1.867</td>\n",
              "      <td>0.031</td>\n",
              "      <td>72.877</td>\n",
              "      <td>2.121</td>\n",
              "      <td>376.410</td>\n",
              "      <td>3.0</td>\n",
              "      <td>46.248</td>\n",
              "      <td>-0.958</td>\n",
              "      <td>-0.444</td>\n",
              "      <td>42.759</td>\n",
              "      <td>-1.651</td>\n",
              "      <td>-1.445</td>\n",
              "      <td>157.638</td>\n",
              "    </tr>\n",
              "    <tr>\n",
              "      <th>1</th>\n",
              "      <td>139.751</td>\n",
              "      <td>74.028</td>\n",
              "      <td>111.619</td>\n",
              "      <td>44.266</td>\n",
              "      <td>2.119</td>\n",
              "      <td>104.723</td>\n",
              "      <td>-0.498</td>\n",
              "      <td>2.533</td>\n",
              "      <td>9.437</td>\n",
              "      <td>168.638</td>\n",
              "      <td>2.126</td>\n",
              "      <td>-1.042</td>\n",
              "      <td>0.619</td>\n",
              "      <td>31.997</td>\n",
              "      <td>1.481</td>\n",
              "      <td>1.614</td>\n",
              "      <td>68.028</td>\n",
              "      <td>-0.056</td>\n",
              "      <td>-2.655</td>\n",
              "      <td>20.147</td>\n",
              "      <td>0.447</td>\n",
              "      <td>252.698</td>\n",
              "      <td>2.0</td>\n",
              "      <td>36.798</td>\n",
              "      <td>0.269</td>\n",
              "      <td>-1.254</td>\n",
              "      <td>31.816</td>\n",
              "      <td>-1.849</td>\n",
              "      <td>0.664</td>\n",
              "      <td>68.614</td>\n",
              "    </tr>\n",
              "    <tr>\n",
              "      <th>2</th>\n",
              "      <td>116.217</td>\n",
              "      <td>73.136</td>\n",
              "      <td>59.239</td>\n",
              "      <td>101.850</td>\n",
              "      <td>0.625</td>\n",
              "      <td>85.539</td>\n",
              "      <td>2.979</td>\n",
              "      <td>1.922</td>\n",
              "      <td>28.049</td>\n",
              "      <td>202.636</td>\n",
              "      <td>1.966</td>\n",
              "      <td>0.577</td>\n",
              "      <td>0.000</td>\n",
              "      <td>20.894</td>\n",
              "      <td>-2.359</td>\n",
              "      <td>1.423</td>\n",
              "      <td>41.074</td>\n",
              "      <td>-0.807</td>\n",
              "      <td>0.289</td>\n",
              "      <td>68.144</td>\n",
              "      <td>1.816</td>\n",
              "      <td>271.485</td>\n",
              "      <td>2.0</td>\n",
              "      <td>82.453</td>\n",
              "      <td>2.066</td>\n",
              "      <td>-1.210</td>\n",
              "      <td>58.216</td>\n",
              "      <td>1.442</td>\n",
              "      <td>-2.288</td>\n",
              "      <td>140.669</td>\n",
              "    </tr>\n",
              "    <tr>\n",
              "      <th>3</th>\n",
              "      <td>64.544</td>\n",
              "      <td>0.099</td>\n",
              "      <td>28.945</td>\n",
              "      <td>341.418</td>\n",
              "      <td>2.390</td>\n",
              "      <td>358.936</td>\n",
              "      <td>-1.181</td>\n",
              "      <td>0.714</td>\n",
              "      <td>35.293</td>\n",
              "      <td>508.349</td>\n",
              "      <td>3.894</td>\n",
              "      <td>1.010</td>\n",
              "      <td>0.963</td>\n",
              "      <td>20.102</td>\n",
              "      <td>0.446</td>\n",
              "      <td>-2.483</td>\n",
              "      <td>78.270</td>\n",
              "      <td>-0.264</td>\n",
              "      <td>-2.408</td>\n",
              "      <td>243.099</td>\n",
              "      <td>-2.409</td>\n",
              "      <td>470.806</td>\n",
              "      <td>3.0</td>\n",
              "      <td>331.152</td>\n",
              "      <td>-1.693</td>\n",
              "      <td>0.615</td>\n",
              "      <td>41.742</td>\n",
              "      <td>0.697</td>\n",
              "      <td>1.083</td>\n",
              "      <td>409.977</td>\n",
              "    </tr>\n",
              "    <tr>\n",
              "      <th>4</th>\n",
              "      <td>32.281</td>\n",
              "      <td>67.393</td>\n",
              "      <td>26.006</td>\n",
              "      <td>29.088</td>\n",
              "      <td>1.330</td>\n",
              "      <td>108.191</td>\n",
              "      <td>-0.362</td>\n",
              "      <td>0.846</td>\n",
              "      <td>48.389</td>\n",
              "      <td>152.087</td>\n",
              "      <td>1.252</td>\n",
              "      <td>-1.084</td>\n",
              "      <td>0.880</td>\n",
              "      <td>28.195</td>\n",
              "      <td>-0.076</td>\n",
              "      <td>2.496</td>\n",
              "      <td>35.312</td>\n",
              "      <td>0.046</td>\n",
              "      <td>1.659</td>\n",
              "      <td>32.186</td>\n",
              "      <td>-1.421</td>\n",
              "      <td>244.220</td>\n",
              "      <td>2.0</td>\n",
              "      <td>48.198</td>\n",
              "      <td>0.949</td>\n",
              "      <td>1.517</td>\n",
              "      <td>40.382</td>\n",
              "      <td>-0.382</td>\n",
              "      <td>-2.029</td>\n",
              "      <td>88.580</td>\n",
              "    </tr>\n",
              "  </tbody>\n",
              "</table>\n",
              "</div>"
            ],
            "text/plain": [
              "        0       1        2        3   ...      26     27     28       29\n",
              "0  243.128  96.455  158.618   90.253  ...  42.759 -1.651 -1.445  157.638\n",
              "1  139.751  74.028  111.619   44.266  ...  31.816 -1.849  0.664   68.614\n",
              "2  116.217  73.136   59.239  101.850  ...  58.216  1.442 -2.288  140.669\n",
              "3   64.544   0.099   28.945  341.418  ...  41.742  0.697  1.083  409.977\n",
              "4   32.281  67.393   26.006   29.088  ...  40.382 -0.382 -2.029   88.580\n",
              "\n",
              "[5 rows x 30 columns]"
            ]
          },
          "metadata": {
            "tags": []
          },
          "execution_count": 111
        }
      ]
    },
    {
      "cell_type": "code",
      "metadata": {
        "colab": {
          "base_uri": "https://localhost:8080/"
        },
        "id": "leyDQ4mNhRaY",
        "outputId": "fba6f2f9-a73a-434a-9f67-58053ecbbc37"
      },
      "source": [
        "# checking the class imbalance\n",
        "collections.Counter(atlas_labels)"
      ],
      "execution_count": 112,
      "outputs": [
        {
          "output_type": "execute_result",
          "data": {
            "text/plain": [
              "Counter({0.0: 5312, 1.0: 4688})"
            ]
          },
          "metadata": {
            "tags": []
          },
          "execution_count": 112
        }
      ]
    },
    {
      "cell_type": "code",
      "metadata": {
        "colab": {
          "base_uri": "https://localhost:8080/"
        },
        "id": "fPTz3TzVL1Ie",
        "outputId": "b1f293aa-cbbe-4276-8002-ce5d770cd9f4"
      },
      "source": [
        "# checking for any datatype discrepencies\n",
        "atlas_data.dtype"
      ],
      "execution_count": 113,
      "outputs": [
        {
          "output_type": "execute_result",
          "data": {
            "text/plain": [
              "dtype('float64')"
            ]
          },
          "metadata": {
            "tags": []
          },
          "execution_count": 113
        }
      ]
    },
    {
      "cell_type": "code",
      "metadata": {
        "colab": {
          "base_uri": "https://localhost:8080/",
          "height": 282
        },
        "id": "1qkv0TMEmSqt",
        "outputId": "fbc79bed-612a-4762-cfe4-d255b55d31d0"
      },
      "source": [
        "# plotting a scatter plot to see how the classes are distributed\n",
        "sns.scatterplot(x=atlas_data[:,0], y=atlas_data[:,1], hue=atlas_labels )"
      ],
      "execution_count": 114,
      "outputs": [
        {
          "output_type": "execute_result",
          "data": {
            "text/plain": [
              "<matplotlib.axes._subplots.AxesSubplot at 0x7f9aea5472d0>"
            ]
          },
          "metadata": {
            "tags": []
          },
          "execution_count": 114
        },
        {
          "output_type": "display_data",
          "data": {
            "image/png": "[encoded data removed]",
            "text/plain": [
              "<Figure size 432x288 with 1 Axes>"
            ]
          },
          "metadata": {
            "tags": [],
            "needs_background": "light"
          }
        }
      ]
    },
    {
      "cell_type": "markdown",
      "metadata": {
        "id": "e98vO2HrijBU"
      },
      "source": [
        "# 4. Data preprocessing strategies adopted "
      ]
    },
    {
      "cell_type": "code",
      "metadata": {
        "id": "1Gfo1nhvi1Bm"
      },
      "source": [
        "# as a good practice for uniform evaluation doing feature scaling & standardizing using Scikit-Learn functions\n",
        "\n",
        "# StandarScalar\n",
        "scaler = StandardScaler()\n",
        "scaler.fit(atlas_data)\n",
        "atlas_processed_StdScl = scaler.transform(atlas_data)\n",
        "\n",
        "# Preprocessing\n",
        "atlas_processed_PrePro = preprocessing.scale(atlas_data)"
      ],
      "execution_count": 115,
      "outputs": []
    },
    {
      "cell_type": "markdown",
      "metadata": {
        "id": "YihgIj3FSJSr"
      },
      "source": [
        "# 5. Building ML Traditional Models"
      ]
    },
    {
      "cell_type": "markdown",
      "metadata": {
        "id": "GKbbZs3iYyPx"
      },
      "source": [
        "> ## 5.1 Supervised: K-Nearest Neighbour"
      ]
    },
    {
      "cell_type": "code",
      "metadata": {
        "id": "xzyNFGEhZgmo"
      },
      "source": [
        "# Creating a copy of data for \"the KNN model\n",
        "KNN_Data = atlas_processed_StdScl\n",
        "KNN_Labels = atlas_labels\n",
        "\n",
        "# choose k between 1 to 31\n",
        "k_range = range(1, 31)\n",
        "k_scores = []\n",
        "\n",
        "# use iteration to caclulator different k in models, then return the average accuracy based on the cross validation\n",
        "for k in k_range:\n",
        "    knn_train_values, knn_test_values, knn_train_labels, knn_test_labels = train_test_split(KNN_Data, KNN_Labels, test_size=0.2)\n",
        "    knn_model = KNeighborsClassifier(n_neighbors=k)\n",
        "    knn_model.fit(knn_train_values, knn_train_labels)\n",
        "    scores = cross_val_score(knn_model, knn_test_values, knn_test_labels, cv=10, scoring='accuracy')\n",
        "    k_scores.append(scores.mean())   "
      ],
      "execution_count": 130,
      "outputs": []
    },
    {
      "cell_type": "code",
      "metadata": {
        "colab": {
          "base_uri": "https://localhost:8080/"
        },
        "id": "ZGIuWLHfD9bw",
        "outputId": "a2c7bad7-e55d-463d-e35f-519241447417"
      },
      "source": [
        "# creating confusion matrix for KNN model\n",
        "cmKNN = sklearn.metrics.confusion_matrix(knn_test_labels,knn_model.predict(knn_test_values))\n",
        "tnKNN, fpKNN, fnKNN, tpKNN = cmKNN.ravel()\n",
        "precisionKNN = tpKNN / (tpKNN + fpKNN)\n",
        "recallKNN = tpKNN / (tpKNN + fnKNN)\n",
        "print(\"The KNN confusion-matrix is: \")\n",
        "print(cmKNN)\n",
        "print(\"KNN precision score is: \",precisionKNN,\"\\nKNN recall score is   : \", recallKNN)"
      ],
      "execution_count": 147,
      "outputs": [
        {
          "output_type": "stream",
          "text": [
            "The KNN confusion-matrix is: \n",
            "[[830 243]\n",
            " [237 690]]\n",
            "KNN precision score is:  0.7395498392282959 \n",
            "KNN recall score is   :  0.7443365695792881\n"
          ],
          "name": "stdout"
        }
      ]
    },
    {
      "cell_type": "code",
      "metadata": {
        "colab": {
          "base_uri": "https://localhost:8080/"
        },
        "id": "MzyJpk3EOYWn",
        "outputId": "614a87fe-4125-462d-9cdd-cfaa09ce60ab"
      },
      "source": [
        "# Perform GridSearch on the KNN model to identify best hyperparameter\n",
        "grid = {\"n_neighbors\":range(1,30)}\n",
        "model_cv = GridSearchCV(knn_model,grid,cv=10,iid=False)\n",
        "model_cv.fit(knn_train_values, knn_train_labels)\n",
        "model_cv.best_params_"
      ],
      "execution_count": 132,
      "outputs": [
        {
          "output_type": "stream",
          "text": [
            "/usr/local/lib/python3.7/dist-packages/sklearn/model_selection/_search.py:823: FutureWarning: The parameter 'iid' is deprecated in 0.22 and will be removed in 0.24.\n",
            "  \"removed in 0.24.\", FutureWarning\n"
          ],
          "name": "stderr"
        },
        {
          "output_type": "execute_result",
          "data": {
            "text/plain": [
              "{'n_neighbors': 28}"
            ]
          },
          "metadata": {
            "tags": []
          },
          "execution_count": 132
        }
      ]
    },
    {
      "cell_type": "code",
      "metadata": {
        "colab": {
          "base_uri": "https://localhost:8080/",
          "height": 279
        },
        "id": "Q2dUDvm-ZivM",
        "outputId": "572871f0-db53-4358-f3ae-2c0c819ac333"
      },
      "source": [
        "# accuracy plot to see the optimal value for K in KNN\n",
        "plt.plot(k_range, k_scores)\n",
        "plt.xlabel('Value of K for KNN')\n",
        "plt.ylabel('Cross-Validated Accuracy')\n",
        "plt.show()"
      ],
      "execution_count": 133,
      "outputs": [
        {
          "output_type": "display_data",
          "data": {
            "image/png": "[encoded data removed]",
            "text/plain": [
              "<Figure size 432x288 with 1 Axes>"
            ]
          },
          "metadata": {
            "tags": [],
            "needs_background": "light"
          }
        }
      ]
    },
    {
      "cell_type": "markdown",
      "metadata": {
        "id": "pWwAYeH7ZKNX"
      },
      "source": [
        "> ## 5.2 SVM: Support Vector Machine\n"
      ]
    },
    {
      "cell_type": "code",
      "metadata": {
        "id": "ie1pzgpAZxUn"
      },
      "source": [
        "# Creating a copy of data for \"the SVM model\n",
        "SVM_Data = atlas_processed_StdScl\n",
        "SVM_Labels = atlas_labels"
      ],
      "execution_count": 148,
      "outputs": []
    },
    {
      "cell_type": "code",
      "metadata": {
        "id": "qZqAXzwWbLol"
      },
      "source": [
        "svm_train_values, svm_test_values, svm_train_labels,svm_test_labels = train_test_split(SVM_Data, SVM_Labels, test_size=0.2)"
      ],
      "execution_count": 149,
      "outputs": []
    },
    {
      "cell_type": "code",
      "metadata": {
        "colab": {
          "base_uri": "https://localhost:8080/",
          "height": 228
        },
        "id": "_E40CvTCapxv",
        "outputId": "ba0fb2bc-0f49-476e-c9a0-323987623b41"
      },
      "source": [
        "# Perform GridSearch on the SVM model to identify best hyperparameter\n",
        "grid = {'kernel': ['rbf', 'poly', 'sigmoid', 'linear'], 'gamma': [1,0.1,0.01,0.001],'C': [0.1, 1, 10, 100]}\n",
        "model_cv = GridSearchCV(SVM,grid,cv=10,iid=False)\n",
        "model_cv.fit(X_train_scale, y_train)\n",
        "model_cv.best_params_"
      ],
      "execution_count": 150,
      "outputs": [
        {
          "output_type": "error",
          "ename": "NameError",
          "evalue": "ignored",
          "traceback": [
            "\u001b[0;31m---------------------------------------------------------------------------\u001b[0m",
            "\u001b[0;31mNameError\u001b[0m                                 Traceback (most recent call last)",
            "\u001b[0;32m<ipython-input-150-76c39f0ab8d7>\u001b[0m in \u001b[0;36m<module>\u001b[0;34m()\u001b[0m\n\u001b[1;32m      1\u001b[0m \u001b[0;31m# Perform GridSearch on the SVM model to identify best hyperparameter\u001b[0m\u001b[0;34m\u001b[0m\u001b[0;34m\u001b[0m\u001b[0;34m\u001b[0m\u001b[0m\n\u001b[1;32m      2\u001b[0m \u001b[0mgrid\u001b[0m \u001b[0;34m=\u001b[0m \u001b[0;34m{\u001b[0m\u001b[0;34m'kernel'\u001b[0m\u001b[0;34m:\u001b[0m \u001b[0;34m[\u001b[0m\u001b[0;34m'rbf'\u001b[0m\u001b[0;34m,\u001b[0m \u001b[0;34m'poly'\u001b[0m\u001b[0;34m,\u001b[0m \u001b[0;34m'sigmoid'\u001b[0m\u001b[0;34m,\u001b[0m \u001b[0;34m'linear'\u001b[0m\u001b[0;34m]\u001b[0m\u001b[0;34m,\u001b[0m \u001b[0;34m'gamma'\u001b[0m\u001b[0;34m:\u001b[0m \u001b[0;34m[\u001b[0m\u001b[0;36m1\u001b[0m\u001b[0;34m,\u001b[0m\u001b[0;36m0.1\u001b[0m\u001b[0;34m,\u001b[0m\u001b[0;36m0.01\u001b[0m\u001b[0;34m,\u001b[0m\u001b[0;36m0.001\u001b[0m\u001b[0;34m]\u001b[0m\u001b[0;34m,\u001b[0m\u001b[0;34m'C'\u001b[0m\u001b[0;34m:\u001b[0m \u001b[0;34m[\u001b[0m\u001b[0;36m0.1\u001b[0m\u001b[0;34m,\u001b[0m \u001b[0;36m1\u001b[0m\u001b[0;34m,\u001b[0m \u001b[0;36m10\u001b[0m\u001b[0;34m,\u001b[0m \u001b[0;36m100\u001b[0m\u001b[0;34m]\u001b[0m\u001b[0;34m}\u001b[0m\u001b[0;34m\u001b[0m\u001b[0;34m\u001b[0m\u001b[0m\n\u001b[0;32m----> 3\u001b[0;31m \u001b[0mmodel_cv\u001b[0m \u001b[0;34m=\u001b[0m \u001b[0mGridSearchCV\u001b[0m\u001b[0;34m(\u001b[0m\u001b[0mSVM\u001b[0m\u001b[0;34m,\u001b[0m\u001b[0mgrid\u001b[0m\u001b[0;34m,\u001b[0m\u001b[0mcv\u001b[0m\u001b[0;34m=\u001b[0m\u001b[0;36m10\u001b[0m\u001b[0;34m,\u001b[0m\u001b[0miid\u001b[0m\u001b[0;34m=\u001b[0m\u001b[0;32mFalse\u001b[0m\u001b[0;34m)\u001b[0m\u001b[0;34m\u001b[0m\u001b[0;34m\u001b[0m\u001b[0m\n\u001b[0m\u001b[1;32m      4\u001b[0m \u001b[0mmodel_cv\u001b[0m\u001b[0;34m.\u001b[0m\u001b[0mfit\u001b[0m\u001b[0;34m(\u001b[0m\u001b[0mX_train_scale\u001b[0m\u001b[0;34m,\u001b[0m \u001b[0my_train\u001b[0m\u001b[0;34m)\u001b[0m\u001b[0;34m\u001b[0m\u001b[0;34m\u001b[0m\u001b[0m\n\u001b[1;32m      5\u001b[0m \u001b[0mmodel_cv\u001b[0m\u001b[0;34m.\u001b[0m\u001b[0mbest_params_\u001b[0m\u001b[0;34m\u001b[0m\u001b[0;34m\u001b[0m\u001b[0m\n",
            "\u001b[0;31mNameError\u001b[0m: name 'SVM' is not defined"
          ]
        }
      ]
    },
    {
      "cell_type": "markdown",
      "metadata": {
        "id": "wQpnzrq7SNAI"
      },
      "source": [
        "# 6. Building Deep Learning approaches"
      ]
    },
    {
      "cell_type": "code",
      "metadata": {
        "id": "x9we-dW7SPec"
      },
      "source": [
        ""
      ],
      "execution_count": null,
      "outputs": []
    },
    {
      "cell_type": "markdown",
      "metadata": {
        "id": "1j37w4-9SP7o"
      },
      "source": [
        "# 7. Experiment results and analysis"
      ]
    },
    {
      "cell_type": "code",
      "metadata": {
        "id": "k7B4Ij0uSSIW"
      },
      "source": [
        ""
      ],
      "execution_count": null,
      "outputs": []
    },
    {
      "cell_type": "markdown",
      "metadata": {
        "id": "iOFDvg_ASSz8"
      },
      "source": [
        "# 8. Comparison between Traditional and Deep Learning methods"
      ]
    },
    {
      "cell_type": "code",
      "metadata": {
        "id": "Et73jI5uSUdD"
      },
      "source": [
        "# divide dataset into training and test splits\n",
        "X_train, X_test, y_train, y_test = train_test_split(atlas_data,atlas_labels,test_size=0.2) # splits the dataset into 80% training and 20% testing data"
      ],
      "execution_count": null,
      "outputs": []
    }
  ]
}