{
  "nbformat": 4,
  "nbformat_minor": 0,
  "metadata": {
    "colab": {
      "name": "CSMML16_ML traditional & deep neural model comparison.ipynb",
      "provenance": [],
      "collapsed_sections": [],
      "toc_visible": true,
      "authorship_tag": "ABX9TyMhogJPraZJTifiFnt5uQom",
      "include_colab_link": true
    },
    "kernelspec": {
      "name": "python3",
      "display_name": "Python 3"
    },
    "language_info": {
      "name": "python"
    }
  },
  "cells": [
    {
      "cell_type": "markdown",
      "metadata": {
        "id": "view-in-github",
        "colab_type": "text"
      },
      "source": [
        "<a href=\"https://colab.research.google.com/github/tm28823289/CSMML16_ML-traditional-deep-neural-model-comparison/blob/main/CSMML16_ML_traditional_%26_deep_neural_model_comparison.ipynb\" target=\"_parent\"><img src=\"https://colab.research.google.com/assets/colab-badge.svg\" alt=\"Open In Colab\"/></a>"
      ]
    },
    {
      "cell_type": "markdown",
      "metadata": {
        "id": "YQlDT4sGREJd"
      },
      "source": [
        "# 1. Importing the required Python and ML libraries & modules"
      ]
    },
    {
      "cell_type": "code",
      "metadata": {
        "id": "F3__PofGPR4j"
      },
      "source": [
        "# Importing generic python modules & libraries for implementing ML models\n",
        "import pandas as pd\n",
        "import numpy as np\n",
        "import matplotlib.pyplot as plt\n",
        "import seaborn as sns\n",
        "import sklearn\n",
        "from sklearn.model_selection import train_test_split # For testing and training splits\n",
        "from sklearn.model_selection import GridSearchCV # For searching over possible values of hyperparameters\n",
        "from sklearn.preprocessing import StandardScaler\n",
        "from sklearn.preprocessing import MinMaxScaler\n",
        "from sklearn import preprocessing\n",
        "\n",
        "# Importing modules & libraries for implementing ML traditional model\n",
        "from sklearn.cluster import KMeans\n",
        "from sklearn.neighbors import KNeighborsClassifier\n",
        "from sklearn.svm import SVC\n",
        "from sklearn.svm import SVR\n",
        "from sklearn.mixture import GaussianMixture\n",
        "from sklearn.metrics import accuracy_score # For evaluating model accuracy score\n",
        "from sklearn.model_selection import cross_val_score # For cross validation\n",
        "\n",
        "# for implementing ML DNN model\n",
        "import tensorflow as tf\n",
        "from tensorflow import keras\n",
        "from tensorflow.keras.models import Sequential\n",
        "from tensorflow.keras.layers import Dense, Activation\n",
        "from tensorflow.keras.callbacks import EarlyStopping\n",
        "from tensorflow.keras.wrappers.scikit_learn import KerasClassifier"
      ],
      "execution_count": 3,
      "outputs": []
    },
    {
      "cell_type": "code",
      "metadata": {
        "colab": {
          "base_uri": "https://localhost:8080/"
        },
        "id": "q5SSKiafPuQM",
        "outputId": "23e4dcea-8e19-4862-a53f-925b4b5a7209"
      },
      "source": [
        "print(tf.__version__) # checking the tensorflow version"
      ],
      "execution_count": 4,
      "outputs": [
        {
          "output_type": "stream",
          "text": [
            "2.4.1\n"
          ],
          "name": "stdout"
        }
      ]
    },
    {
      "cell_type": "markdown",
      "metadata": {
        "id": "FirPdIxUR61u"
      },
      "source": [
        "# 2. Loading the ATLAS data"
      ]
    },
    {
      "cell_type": "code",
      "metadata": {
        "id": "r2SJ46xHSAG8"
      },
      "source": [
        "atlas_labels = pd.read_csv(\"C:/Users/satis/OneDrive/Desktop/ATLAS-labels.csv\", header=None)\n",
        "atlas_data = pd.read_csv(\"ATLAS-data.csv\", header=None)"
      ],
      "execution_count": null,
      "outputs": []
    },
    {
      "cell_type": "markdown",
      "metadata": {
        "id": "anVIkOMeSBts"
      },
      "source": [
        "# 3. Exploring and experimenting with the ATLAS data"
      ]
    },
    {
      "cell_type": "code",
      "metadata": {
        "id": "Waq6g6rdSIM5"
      },
      "source": [
        ""
      ],
      "execution_count": null,
      "outputs": []
    },
    {
      "cell_type": "markdown",
      "metadata": {
        "id": "YihgIj3FSJSr"
      },
      "source": [
        "# 4. Building ML Traditional approaches"
      ]
    },
    {
      "cell_type": "code",
      "metadata": {
        "id": "ZBgO3JqlSMCk"
      },
      "source": [
        ""
      ],
      "execution_count": null,
      "outputs": []
    },
    {
      "cell_type": "markdown",
      "metadata": {
        "id": "wQpnzrq7SNAI"
      },
      "source": [
        "# 5. Building Deep Learning approaches"
      ]
    },
    {
      "cell_type": "code",
      "metadata": {
        "id": "x9we-dW7SPec"
      },
      "source": [
        ""
      ],
      "execution_count": null,
      "outputs": []
    },
    {
      "cell_type": "markdown",
      "metadata": {
        "id": "1j37w4-9SP7o"
      },
      "source": [
        "# 6. Experiment results and analysis"
      ]
    },
    {
      "cell_type": "code",
      "metadata": {
        "id": "k7B4Ij0uSSIW"
      },
      "source": [
        ""
      ],
      "execution_count": null,
      "outputs": []
    },
    {
      "cell_type": "markdown",
      "metadata": {
        "id": "iOFDvg_ASSz8"
      },
      "source": [
        "# 7. Comparison between Traditional and Deep Learning methods"
      ]
    },
    {
      "cell_type": "code",
      "metadata": {
        "id": "Et73jI5uSUdD"
      },
      "source": [
        ""
      ],
      "execution_count": null,
      "outputs": []
    }
  ]
}